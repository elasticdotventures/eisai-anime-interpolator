{
 "cells": [
  {
   "cell_type": "code",
   "execution_count": 1,
   "id": "d1ecea93-527c-4684-9fe5-727be232bea7",
   "metadata": {},
   "outputs": [
    {
     "ename": "AssertionError",
     "evalue": "need gpu runtime (Runtime > Change Runtime Type > GPU)",
     "output_type": "error",
     "traceback": [
      "\u001b[0;31m---------------------------------------------------------------------------\u001b[0m",
      "\u001b[0;31mAssertionError\u001b[0m                            Traceback (most recent call last)",
      "Cell \u001b[0;32mIn[1], line 2\u001b[0m\n\u001b[1;32m      1\u001b[0m \u001b[38;5;28;01mimport\u001b[39;00m \u001b[38;5;21;01mtorch\u001b[39;00m\n\u001b[0;32m----> 2\u001b[0m \u001b[38;5;28;01massert\u001b[39;00m torch\u001b[38;5;241m.\u001b[39mcuda\u001b[38;5;241m.\u001b[39mis_available(), \u001b[38;5;124m'\u001b[39m\u001b[38;5;124mneed gpu runtime (Runtime > Change Runtime Type > GPU)\u001b[39m\u001b[38;5;124m'\u001b[39m\n",
      "\u001b[0;31mAssertionError\u001b[0m: need gpu runtime (Runtime > Change Runtime Type > GPU)"
     ]
    }
   ],
   "source": [
    "import torch\n",
    "assert torch.cuda.is_available(), 'need gpu runtime (Runtime > Change Runtime Type > GPU)'"
   ]
  },
  {
   "cell_type": "code",
   "execution_count": null,
   "id": "ceeb93a5-816a-464c-b125-b50ef488884b",
   "metadata": {},
   "outputs": [],
   "source": [
    "# install additional dependencies\n",
    "%pip install 'kornia==0.5.2'\n",
    "\n",
    "# setup repo\n",
    "!mkdir -p /content && cd /content && \\\n",
    "git clone https://github.com/ShuhongChen/eisai-anime-interpolator.git && \\\n",
    "gdown 1QxS3PiyM-Vf0lj1eqlXdDvyMqXsKfBna && \\\n",
    "unzip /content/checkpoints.zip -d /content/eisai-anime-interpolator/"
   ]
  },
  {
   "cell_type": "code",
   "execution_count": null,
   "id": "3b8c184b",
   "metadata": {},
   "outputs": [],
   "source": [
    "from google.colab import files\n",
    "import os\n",
    "\n",
    "def get_file(prompt, default):\n",
    "    print(prompt)\n",
    "    try:\n",
    "        uploaded = files.upload()\n",
    "        return next(iter(uploaded)) if uploaded else default\n",
    "    except:\n",
    "        return default\n",
    "\n",
    "start_frame = get_file(\"Upload starting frame (or cancel for default):\", \"./supplementary/colab_demo_inputs/frame1.png\")\n",
    "end_frame = get_file(\"Upload ending frame (or cancel for default):\", \"./supplementary/colab_demo_inputs/frame3.png\")\n",
    "\n",
    "print(f\"Using frames: {start_frame}, {end_frame}\")\n",
    "os.environ['START_FRAME'] = start_frame\n",
    "os.environ['END_FRAME'] = end_frame"
   ]
  },
  {
   "cell_type": "code",
   "execution_count": null,
   "id": "4ee4d9d6-13e7-4b03-9e36-04d1bfe97bec",
   "metadata": {},
   "outputs": [],
   "source": [
    "# run interpolation\n",
    "!cd /content/eisai-anime-interpolator/ && \\\n",
    "python3 -m _scripts.interpolate \\\n",
    "    $START_FRAME \\\n",
    "    $END_FRAME \\\n",
    "    --fps=12 \\\n",
    "    --out=./temp/colab_demo_output"
   ]
  },
  {
   "cell_type": "code",
   "execution_count": null,
   "id": "0557ba72-8815-498c-9ed0-c40359634015",
   "metadata": {},
   "outputs": [],
   "source": [
    "# download output\n",
    "!cd /content/eisai-anime-interpolator/temp/ && \\\n",
    "zip -r colab_demo_output.zip colab_demo_output/\n",
    "from google.colab import files\n",
    "files.download('/content/eisai-anime-interpolator/temp/colab_demo_output.zip')"
   ]
  },
  {
   "cell_type": "code",
   "execution_count": null,
   "id": "1e6706ca-ee7b-443e-b527-699bda18c16a",
   "metadata": {},
   "outputs": [],
   "source": []
  }
 ],
 "metadata": {
  "kernelspec": {
   "display_name": "Python 3 (ipykernel)",
   "language": "python",
   "name": "python3"
  },
  "language_info": {
   "codemirror_mode": {
    "name": "ipython",
    "version": 3
   },
   "file_extension": ".py",
   "mimetype": "text/x-python",
   "name": "python",
   "nbconvert_exporter": "python",
   "pygments_lexer": "ipython3",
   "version": "3.11.7"
  }
 },
 "nbformat": 4,
 "nbformat_minor": 5
}
